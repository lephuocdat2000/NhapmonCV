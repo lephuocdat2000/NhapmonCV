{
  "nbformat": 4,
  "nbformat_minor": 0,
  "metadata": {
    "colab": {
      "name": "Untitled53.ipynb",
      "provenance": [],
      "collapsed_sections": [],
      "authorship_tag": "ABX9TyNIQmCODOntB62MIdLwmOPF",
      "include_colab_link": true
    },
    "kernelspec": {
      "name": "python3",
      "display_name": "Python 3"
    }
  },
  "cells": [
    {
      "cell_type": "markdown",
      "metadata": {
        "id": "view-in-github",
        "colab_type": "text"
      },
      "source": [
        "<a href=\"https://colab.research.google.com/github/lephuocdat2000/NhapmonCV/blob/master/Blendanhvavideo.ipynb\" target=\"_parent\"><img src=\"https://colab.research.google.com/assets/colab-badge.svg\" alt=\"Open In Colab\"/></a>"
      ]
    },
    {
      "cell_type": "code",
      "metadata": {
        "id": "Q2cJJHaUKiGQ"
      },
      "source": [
        "import cv2\n",
        "import numpy as np\n",
        "from numpy import asarray\n",
        "import matplotlib.pyplot as plt\n",
        "from PIL import Image\n",
        "from google.colab.patches import cv2_imshow\n",
        "obj=cv2.imread('/content/girl.jpg')\n",
        "eff=cv2.imread('/content/fire.jpg')\n",
        "mask=cv2.imread('/content/mask.png')\n",
        "obj=cv2.cvtColor(obj,cv2.COLOR_BGR2RGB)\n",
        "eff=cv2.cvtColor(eff,cv2.COLOR_BGR2RGB)\n",
        "mask=cv2.cvtColor(mask,cv2.COLOR_BGR2RGB)\n",
        "#Tao ma tran mask\n",
        "mask1=(mask[:,:,0]>0)\n",
        "mask2=(mask[:,:,1]>0)\n",
        "mask3=(mask[:,:,2]>0)\n",
        "mask=mask1&mask2&mask3\n",
        "def double_exposure(obj,obj_mask,eff,alpha):\n",
        "    mask=[obj_mask,obj_mask,obj_mask]\n",
        "    mask=np.stack(mask,axis=2)\n",
        "    mask=mask.astype('uint8')\n",
        "    res=(1-alpha)*(obj)+alpha*(eff*mask)\n",
        "    res=res.astype('uint8')\n",
        "    return res\n",
        "#res=double_exposure(obj,mask,eff,0.5)\n",
        "#Read video\n",
        "cap=cv2.VideoCapture('/content/3d_ocean_1590675653.mov')\n",
        "if (cap.isOpened()==False):\n",
        "    print(\"Error opening video stream or file\")\n",
        "out = cv2.VideoWriter('outpy.avi',cv2.VideoWriter_fourcc('M','J','P','G'), 10,(obj.shape[1],obj.shape[0]))\n",
        "while (True):\n",
        "   ret,frame=cap.read()\n",
        "   if ret==True:\n",
        "      #resize frame lai bang kich thuoc cua obj\n",
        "      image = Image.fromarray(frame)\n",
        "      image = image.resize((obj.shape[1],obj.shape[0]))\n",
        "      image_arr=asarray(image)\n",
        "      # double exposure frame va obj \n",
        "      res = double_exposure(obj,mask,image_arr,0.5)\n",
        "      out.write(res)\n",
        "   else: break\n",
        "out.release()\n",
        "    \n"
      ],
      "execution_count": null,
      "outputs": []
    }
  ]
}