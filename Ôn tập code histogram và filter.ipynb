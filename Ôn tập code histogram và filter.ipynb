{
  "nbformat": 4,
  "nbformat_minor": 0,
  "metadata": {
    "colab": {
      "name": "Untitled109.ipynb",
      "provenance": [],
      "authorship_tag": "ABX9TyPMSD52do4e0ZuNfc1VDbrU",
      "include_colab_link": true
    },
    "kernelspec": {
      "name": "python3",
      "display_name": "Python 3"
    }
  },
  "cells": [
    {
      "cell_type": "markdown",
      "metadata": {
        "id": "view-in-github",
        "colab_type": "text"
      },
      "source": [
        "<a href=\"https://colab.research.google.com/github/lephuocdat2000/NhapmonCV/blob/master/%C3%94n%20t%E1%BA%ADp%20code%20histogram%20v%C3%A0%20filter.ipynb\" target=\"_parent\"><img src=\"https://colab.research.google.com/assets/colab-badge.svg\" alt=\"Open In Colab\"/></a>"
      ]
    },
    {
      "cell_type": "code",
      "metadata": {
        "colab": {
          "base_uri": "https://localhost:8080/",
          "height": 281
        },
        "id": "kt_TQIwVFSDZ",
        "outputId": "b07b48ec-d709-48c4-8006-f32b0efa08aa"
      },
      "source": [
        "import cv2\r\n",
        "import numpy as np\r\n",
        "import matplotlib.pyplot as plt\r\n",
        "\r\n",
        "img_gray=cv2.imread('/content/1_XyOTKWqLq5X9ZT_xemeyTQ.png',0)\r\n",
        "img_vec=img_gray.reshape(-1)\r\n",
        "def cal_hist(img_vec):\r\n",
        "   hist=np.zeros(256,np.int)\r\n",
        "   values,counts=np.unique(img_vec,return_counts=True)\r\n",
        "   for i,val in enumerate(values):\r\n",
        "     hist[val]=counts[i]\r\n",
        "   return hist\r\n",
        "hist=cal_hist(img_vec)\r\n",
        "plt.bar(range(0,256),hist)"
      ],
      "execution_count": 6,
      "outputs": [
        {
          "output_type": "execute_result",
          "data": {
            "text/plain": [
              "<BarContainer object of 256 artists>"
            ]
          },
          "metadata": {
            "tags": []
          },
          "execution_count": 6
        },
        {
          "output_type": "display_data",
          "data": {
            "image/png": "[encoded data removed]",
            "text/plain": [
              "<Figure size 432x288 with 1 Axes>"
            ]
          },
          "metadata": {
            "tags": [],
            "needs_background": "light"
          }
        }
      ]
    },
    {
      "cell_type": "code",
      "metadata": {
        "id": "H4OEkwQcH3L0"
      },
      "source": [
        "filter=np.array([[1/9,1/9,1/9],\r\n",
        "        [1/9,1/9,1/9],\r\n",
        "        [1/9,1/9,1/9]])\r\n",
        "def Filter(img_gray,filter):\r\n",
        "  img_h,img_w = img_gray.shape[0],img_gray.shape[1] \r\n",
        "  f_h,f_w=filter.shape[0],filter.shape[1]\r\n",
        "  result=np.zeros((img_h-f_h+1,img_w-f_w+1))\r\n",
        "  for i in range(0,img_gray.shape[0]-f_h):\r\n",
        "       j=0\r\n",
        "       while(j<img_gray.shape[1]-f_w):\r\n",
        "            temp=img_gray[i:(i+f_h),j:(j+f_w)].reshape(-1)\r\n",
        "            result[i][j]=np.dot(temp,filter.reshape(-1))\r\n",
        "            j+=1\r\n",
        "  return result\r\n",
        "result=Filter(img_gray,filter)\r\n",
        "          "
      ],
      "execution_count": 50,
      "outputs": []
    },
    {
      "cell_type": "code",
      "metadata": {
        "colab": {
          "base_uri": "https://localhost:8080/"
        },
        "id": "nYII_f8XWTpf",
        "outputId": "23b8ce09-a5f0-4883-8e59-56936642856c"
      },
      "source": [
        "result"
      ],
      "execution_count": 51,
      "outputs": [
        {
          "output_type": "execute_result",
          "data": {
            "text/plain": [
              "array([[186.33333333, 184.22222222, 182.11111111, ..., 244.        ,\n",
              "        244.        ,   0.        ],\n",
              "       [186.44444444, 184.55555556, 182.22222222, ..., 244.        ,\n",
              "        244.        ,   0.        ],\n",
              "       [186.22222222, 184.55555556, 182.22222222, ..., 244.        ,\n",
              "        244.        ,   0.        ],\n",
              "       ...,\n",
              "       [119.22222222, 118.22222222, 117.11111111, ..., 118.        ,\n",
              "        118.11111111,   0.        ],\n",
              "       [120.44444444, 118.88888889, 117.22222222, ..., 118.77777778,\n",
              "        119.44444444,   0.        ],\n",
              "       [  0.        ,   0.        ,   0.        , ...,   0.        ,\n",
              "          0.        ,   0.        ]])"
            ]
          },
          "metadata": {
            "tags": []
          },
          "execution_count": 51
        }
      ]
    }
  ]
}