{
  "nbformat": 4,
  "nbformat_minor": 0,
  "metadata": {
    "colab": {
      "name": "Convolution.ipynb",
      "provenance": [],
      "collapsed_sections": [],
      "authorship_tag": "ABX9TyPuIgWmAW2Lqu8rABxb9cGp",
      "include_colab_link": true
    },
    "kernelspec": {
      "name": "python3",
      "display_name": "Python 3"
    }
  },
  "cells": [
    {
      "cell_type": "markdown",
      "metadata": {
        "id": "view-in-github",
        "colab_type": "text"
      },
      "source": [
        "<a href=\"https://colab.research.google.com/github/lephuocdat2000/NhapmonCV/blob/master/Convolution.ipynb\" target=\"_parent\"><img src=\"https://colab.research.google.com/assets/colab-badge.svg\" alt=\"Open In Colab\"/></a>"
      ]
    },
    {
      "cell_type": "code",
      "metadata": {
        "id": "ESRbWdyJ090n",
        "colab_type": "code",
        "colab": {
          "base_uri": "https://localhost:8080/",
          "height": 34
        },
        "outputId": "6c44f773-3cba-4379-fdc0-5387ff8d4e1a"
      },
      "source": [
        "import cv2\n",
        "import numpy as np\n",
        "def convolution(img,kernel,stride,padding):\n",
        "  img_height=img.shape[0]\n",
        "  img_weight=img.shape[1]\n",
        "  kernel_height = kernel.shape[0]\n",
        "  kernel_width = kernel.shape[1]\n",
        "  k=((img_height+2*padding-kernel_height)//stride)+1\n",
        "  in_padding=np.zeros((img_height+2*padding,img_weight+2*padding))\n",
        "  out=np.zeros(((((img_height+2*padding-kernel_height)//stride)+1),(((img_height+2*padding-kernel_height)//stride)+1)))          \n",
        "  in_padding[padding:(padding+img_height),padding:(padding+img_weight)]=img[0:img_height,0:img_weight]\n",
        "  for i in range(0,in_padding.shape[0]-kernel_height+1,stride):\n",
        "    for j in range(0,in_padding.shape[1]-kernel_width+1,stride):\n",
        "        sum=0\n",
        "        for k in range(i,i+kernel_height):\n",
        "           for l in range(j,j+kernel_width):\n",
        "              sum+=in_padding[k][l]*kernel[k%kernel_height][l%kernel_width]\n",
        "        out[i][j]=sum\n",
        "  print(out)\n",
        "in_img = np.array([[10, 5, 3],\n",
        "                   [4, 6, 1],\n",
        "                   [1, 1, 8]])\n",
        "kernel = np.array([[0, 0, 0],\n",
        "                   [0, 0.5, 0],\n",
        "                   [0, 1, 0.5]])\n",
        "out_img = convolution(in_img,kernel,1,0)"
      ],
      "execution_count": 61,
      "outputs": [
        {
          "output_type": "stream",
          "text": [
            "[[8.]]\n"
          ],
          "name": "stdout"
        }
      ]
    }
  ]
}