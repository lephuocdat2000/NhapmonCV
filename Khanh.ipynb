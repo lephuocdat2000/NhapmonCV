{
  "nbformat": 4,
  "nbformat_minor": 0,
  "metadata": {
    "colab": {
      "name": "Untitled142.ipynb",
      "provenance": [],
      "authorship_tag": "ABX9TyOXbMCAKKbSl0+Zn6CYdyKy",
      "include_colab_link": true
    },
    "kernelspec": {
      "name": "python3",
      "display_name": "Python 3"
    },
    "language_info": {
      "name": "python"
    }
  },
  "cells": [
    {
      "cell_type": "markdown",
      "metadata": {
        "id": "view-in-github",
        "colab_type": "text"
      },
      "source": [
        "<a href=\"https://colab.research.google.com/github/lephuocdat2000/NhapmonCV/blob/master/Khanh.ipynb\" target=\"_parent\"><img src=\"https://colab.research.google.com/assets/colab-badge.svg\" alt=\"Open In Colab\"/></a>"
      ]
    },
    {
      "cell_type": "code",
      "metadata": {
        "colab": {
          "base_uri": "https://localhost:8080/"
        },
        "id": "GxyQUfAYla2K",
        "outputId": "2b094804-e464-4eb8-c3be-758fd9003423"
      },
      "source": [
        "from google.colab import drive\n",
        "drive.mount('/content/drive')"
      ],
      "execution_count": 1,
      "outputs": [
        {
          "output_type": "stream",
          "text": [
            "Mounted at /content/drive\n"
          ],
          "name": "stdout"
        }
      ]
    },
    {
      "cell_type": "code",
      "metadata": {
        "id": "G9zBbrR5wcYq"
      },
      "source": [
        "import zipfile\n",
        "import os\n",
        "import re\n",
        "import numpy as np\n",
        "from PIL import Image\n",
        "import cv2"
      ],
      "execution_count": 66,
      "outputs": []
    },
    {
      "cell_type": "markdown",
      "metadata": {
        "id": "aeOKnWtPwI3c"
      },
      "source": [
        "# Read data"
      ]
    },
    {
      "cell_type": "code",
      "metadata": {
        "id": "j0mrD-d-wJyJ"
      },
      "source": [
        "def Read_data(path_to_zip_file):\n",
        "  imgzip = zipfile.ZipFile(path_to_zip_file)\n",
        "  inflist = imgzip.infolist()\n",
        "  for f in inflist:\n",
        "       fruit = re.search('/(.*)/',f.filename).group(1)\n",
        "       index = np.where(fruits==fruit)\n",
        "       #Đọc ảnh -> array\n",
        "       ifile = imgzip.open(f)\n",
        "       image = Image.open(ifile)\n",
        "       image= np.array(image.getdata())\n",
        "       print(image.shape)\n",
        "       #convert RGB -> HSV\n",
        "       hsv = cv2.cvtColor(image,cv2.COLOR_RGB2HSV)\n",
        "       #select H channel\n",
        "       H_channel = hsv[:,:,0]\n",
        "       fruits_array[index].append[H]\n",
        "       print(fruits_array)\n",
        "\n",
        "  # images=[]\n",
        "  # labels=[]\n",
        "  # for f in inflist:\n",
        "  #     if '.jpg' in f.filename:\n",
        "  #       ifile = imgzip.open(f)\n",
        "  #       img = Image.open(ifile)\n",
        "  #       #Cho vào mạng alexnet\n",
        "  #       img_t=transform(img)\n",
        "  #       batch_t = torch.unsqueeze(img_t,0)\n",
        "  #       out = deep_model(batch_t)\n",
        "  #       out=out.detach().numpy()\n",
        "  #       images.append(out)\n",
        "  #       if 'dog' in f.filename: labels.append(1)\n",
        "  #       elif 'cat' in f.filename: labels.append(0)\n",
        "  # images=np.array(images)\n",
        "  # labels=np.array(labels)\n",
        "  # return images,labels\n"
      ],
      "execution_count": 73,
      "outputs": []
    },
    {
      "cell_type": "code",
      "metadata": {
        "colab": {
          "base_uri": "https://localhost:8080/",
          "height": 464
        },
        "id": "UFmYjuX0wjJG",
        "outputId": "e3ca3881-3470-482c-cd7d-5985a9874a4b"
      },
      "source": [
        "fruits = np.array(['Orange','Apple','Grape','Watermelon','Banana','Mango','Lemon','Strawberry'])\n",
        "path_to_zip_file = '/content/drive/MyDrive/Data Khanh/Khanh.zip'\n",
        "Read_data(path_to_zip_file)\n",
        "Fruits_array = np.zeros((7,0))"
      ],
      "execution_count": 74,
      "outputs": [
        {
          "output_type": "stream",
          "text": [
            "(180625, 3)\n"
          ],
          "name": "stdout"
        },
        {
          "output_type": "error",
          "ename": "error",
          "evalue": "ignored",
          "traceback": [
            "\u001b[0;31m---------------------------------------------------------------------------\u001b[0m",
            "\u001b[0;31merror\u001b[0m                                     Traceback (most recent call last)",
            "\u001b[0;32m<ipython-input-74-03de6a0d92d6>\u001b[0m in \u001b[0;36m<module>\u001b[0;34m()\u001b[0m\n\u001b[1;32m      1\u001b[0m \u001b[0mfruits\u001b[0m \u001b[0;34m=\u001b[0m \u001b[0mnp\u001b[0m\u001b[0;34m.\u001b[0m\u001b[0marray\u001b[0m\u001b[0;34m(\u001b[0m\u001b[0;34m[\u001b[0m\u001b[0;34m'Orange'\u001b[0m\u001b[0;34m,\u001b[0m\u001b[0;34m'Apple'\u001b[0m\u001b[0;34m,\u001b[0m\u001b[0;34m'Grape'\u001b[0m\u001b[0;34m,\u001b[0m\u001b[0;34m'Watermelon'\u001b[0m\u001b[0;34m,\u001b[0m\u001b[0;34m'Banana'\u001b[0m\u001b[0;34m,\u001b[0m\u001b[0;34m'Mango'\u001b[0m\u001b[0;34m,\u001b[0m\u001b[0;34m'Lemon'\u001b[0m\u001b[0;34m,\u001b[0m\u001b[0;34m'Strawberry'\u001b[0m\u001b[0;34m]\u001b[0m\u001b[0;34m)\u001b[0m\u001b[0;34m\u001b[0m\u001b[0;34m\u001b[0m\u001b[0m\n\u001b[1;32m      2\u001b[0m \u001b[0mpath_to_zip_file\u001b[0m \u001b[0;34m=\u001b[0m \u001b[0;34m'/content/drive/MyDrive/Data Khanh/Khanh.zip'\u001b[0m\u001b[0;34m\u001b[0m\u001b[0;34m\u001b[0m\u001b[0m\n\u001b[0;32m----> 3\u001b[0;31m \u001b[0mRead_data\u001b[0m\u001b[0;34m(\u001b[0m\u001b[0mpath_to_zip_file\u001b[0m\u001b[0;34m)\u001b[0m\u001b[0;34m\u001b[0m\u001b[0;34m\u001b[0m\u001b[0m\n\u001b[0m\u001b[1;32m      4\u001b[0m \u001b[0mFruits_array\u001b[0m \u001b[0;34m=\u001b[0m \u001b[0mnp\u001b[0m\u001b[0;34m.\u001b[0m\u001b[0mzeros\u001b[0m\u001b[0;34m(\u001b[0m\u001b[0;34m(\u001b[0m\u001b[0;36m7\u001b[0m\u001b[0;34m,\u001b[0m\u001b[0;36m0\u001b[0m\u001b[0;34m)\u001b[0m\u001b[0;34m)\u001b[0m\u001b[0;34m\u001b[0m\u001b[0;34m\u001b[0m\u001b[0m\n",
            "\u001b[0;32m<ipython-input-73-5d9120ec4214>\u001b[0m in \u001b[0;36mRead_data\u001b[0;34m(path_to_zip_file)\u001b[0m\n\u001b[1;32m     11\u001b[0m        \u001b[0mprint\u001b[0m\u001b[0;34m(\u001b[0m\u001b[0mimage\u001b[0m\u001b[0;34m.\u001b[0m\u001b[0mshape\u001b[0m\u001b[0;34m)\u001b[0m\u001b[0;34m\u001b[0m\u001b[0;34m\u001b[0m\u001b[0m\n\u001b[1;32m     12\u001b[0m        \u001b[0;31m#convert RGB -> HSV\u001b[0m\u001b[0;34m\u001b[0m\u001b[0;34m\u001b[0m\u001b[0;34m\u001b[0m\u001b[0m\n\u001b[0;32m---> 13\u001b[0;31m        \u001b[0mhsv\u001b[0m \u001b[0;34m=\u001b[0m \u001b[0mcv2\u001b[0m\u001b[0;34m.\u001b[0m\u001b[0mcvtColor\u001b[0m\u001b[0;34m(\u001b[0m\u001b[0mimage\u001b[0m\u001b[0;34m,\u001b[0m\u001b[0mcv2\u001b[0m\u001b[0;34m.\u001b[0m\u001b[0mCOLOR_RGB2HSV\u001b[0m\u001b[0;34m)\u001b[0m\u001b[0;34m\u001b[0m\u001b[0;34m\u001b[0m\u001b[0m\n\u001b[0m\u001b[1;32m     14\u001b[0m        \u001b[0;31m#select H channel\u001b[0m\u001b[0;34m\u001b[0m\u001b[0;34m\u001b[0m\u001b[0;34m\u001b[0m\u001b[0m\n\u001b[1;32m     15\u001b[0m        \u001b[0mH_channel\u001b[0m \u001b[0;34m=\u001b[0m \u001b[0mhsv\u001b[0m\u001b[0;34m[\u001b[0m\u001b[0;34m:\u001b[0m\u001b[0;34m,\u001b[0m\u001b[0;34m:\u001b[0m\u001b[0;34m,\u001b[0m\u001b[0;36m0\u001b[0m\u001b[0;34m]\u001b[0m\u001b[0;34m\u001b[0m\u001b[0;34m\u001b[0m\u001b[0m\n",
            "\u001b[0;31merror\u001b[0m: OpenCV(4.1.2) /io/opencv/modules/imgproc/src/color.simd_helpers.hpp:92: error: (-2:Unspecified error) in function 'cv::impl::{anonymous}::CvtHelper<VScn, VDcn, VDepth, sizePolicy>::CvtHelper(cv::InputArray, cv::OutputArray, int) [with VScn = cv::impl::{anonymous}::Set<3, 4>; VDcn = cv::impl::{anonymous}::Set<3>; VDepth = cv::impl::{anonymous}::Set<0, 5>; cv::impl::{anonymous}::SizePolicy sizePolicy = (cv::impl::<unnamed>::SizePolicy)2u; cv::InputArray = const cv::_InputArray&; cv::OutputArray = const cv::_OutputArray&]'\n> Invalid number of channels in input image:\n>     'VScn::contains(scn)'\n> where\n>     'scn' is 1\n"
          ]
        }
      ]
    },
    {
      "cell_type": "code",
      "metadata": {
        "id": "N0pD40K2wtjm"
      },
      "source": [
        ""
      ],
      "execution_count": null,
      "outputs": []
    }
  ]
}