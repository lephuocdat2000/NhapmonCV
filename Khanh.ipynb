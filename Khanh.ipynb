{
  "nbformat": 4,
  "nbformat_minor": 0,
  "metadata": {
    "colab": {
      "name": "Untitled142.ipynb",
      "provenance": [],
      "toc_visible": true,
      "authorship_tag": "ABX9TyMYTzrcYFy917mrEN96ZmFj",
      "include_colab_link": true
    },
    "kernelspec": {
      "name": "python3",
      "display_name": "Python 3"
    },
    "language_info": {
      "name": "python"
    }
  },
  "cells": [
    {
      "cell_type": "markdown",
      "metadata": {
        "id": "view-in-github",
        "colab_type": "text"
      },
      "source": [
        "<a href=\"https://colab.research.google.com/github/lephuocdat2000/NhapmonCV/blob/master/Khanh.ipynb\" target=\"_parent\"><img src=\"https://colab.research.google.com/assets/colab-badge.svg\" alt=\"Open In Colab\"/></a>"
      ]
    },
    {
      "cell_type": "code",
      "metadata": {
        "colab": {
          "base_uri": "https://localhost:8080/"
        },
        "id": "GxyQUfAYla2K",
        "outputId": "db15dca6-122d-4d35-b3de-afecb735afdd"
      },
      "source": [
        "from google.colab import drive\n",
        "drive.mount('/content/drive')"
      ],
      "execution_count": 1,
      "outputs": [
        {
          "output_type": "stream",
          "text": [
            "Mounted at /content/drive\n"
          ],
          "name": "stdout"
        }
      ]
    },
    {
      "cell_type": "code",
      "metadata": {
        "id": "G9zBbrR5wcYq"
      },
      "source": [
        "import zipfile\n",
        "import os\n",
        "import re\n",
        "import numpy as np\n",
        "from PIL import Image\n",
        "import cv2\n",
        "from numpy import asarray\n",
        "import matplotlib.pyplot as plt\n",
        "import math"
      ],
      "execution_count": 27,
      "outputs": []
    },
    {
      "cell_type": "markdown",
      "metadata": {
        "id": "aeOKnWtPwI3c"
      },
      "source": [
        "# Read data"
      ]
    },
    {
      "cell_type": "code",
      "metadata": {
        "id": "j0mrD-d-wJyJ"
      },
      "source": [
        "def UyXma(arr):\n",
        "  uy=sum(arr)/len(arr)\n",
        "  temp=(uy-arr)**2\n",
        "  t=sum(temp)\n",
        "  xma=math.sqrt(t*(1/len(arr)))\n",
        "  return uy,xma\n",
        "def array_selection(index,H_channel):\n",
        "  array = np.array([])\n",
        "  if index == 0 : array=H_channel[(H_channel>0) & (H_channel<=21)]\n",
        "  elif index == 1:  array=H_channel[(H_channel>150) & (H_channel<=180)]\n",
        "  elif index==2: array = H_channel[(H_channel>110) & (H_channel<=140)]\n",
        "  elif index==3: array = H_channel[(H_channel>30) & (H_channel<=50)]\n",
        "  elif index==4: array = H_channel[(H_channel>16) & (H_channel<=25)]\n",
        "  elif index==5: array = H_channel[(H_channel>35) & (H_channel<=40)]\n",
        "  elif index==6: array = H_channel[(H_channel>38) & (H_channel<=55)]\n",
        "  else: array = H_channel[H_channel>100]\n",
        "  return array\n",
        "def Read_data(path_to_zip_file):\n",
        "  imgzip = zipfile.ZipFile(path_to_zip_file)\n",
        "  inflist = imgzip.infolist()\n",
        "  Array = [[],\n",
        "           [],\n",
        "           [],\n",
        "           [],\n",
        "           [],\n",
        "           [],\n",
        "           [],\n",
        "           []]\n",
        "  for f in inflist:\n",
        "       fruit = re.search('/(.*)/',f.filename).group(1)\n",
        "       index = np.where(fruits==fruit)[0][0]\n",
        "       #Đọc ảnh -> array\n",
        "       ifile = imgzip.open(f)\n",
        "       image = asarray(Image.open(ifile))   \n",
        "       #convert RGB -> HSV\n",
        "       hsv = cv2.cvtColor(image,cv2.COLOR_RGB2HSV)\n",
        "       #select H channel\n",
        "       H_channel = hsv[:,:,0]\n",
        "       #Select fruit's pixel\n",
        "       array = array_selection(index,H_channel)\n",
        "       #Add array to Array with corresponding index\n",
        "       Array[index].extend(array)\n",
        "  return Array\n",
        "def Predict(image_path,Uyxma_list):\n",
        "    image = cv2.imread(image_path)\n",
        "    image = cv2.cvtColor(image,cv2.COLOR_BGR2HSV)\n",
        "    plt.imshow(image)\n",
        "    plt.show()\n",
        "    h_channel = image[:,:,0]\n",
        "    nums,index = 0,0\n",
        "    for i in range(0,len(Uyxma_list)):\n",
        "       Uy,xma = Uyxma_list[i][0],Uyxma_list[i][1]\n",
        "       min,max = Uy-2*xma, Uy+2*xma\n",
        "       temp = np.sum((h_channel>=min)&(h_channel<=max))\n",
        "       if nums < temp: \n",
        "         nums = temp\n",
        "         index = i\n",
        "    print('Loai trai cay la:',fruits[index])"
      ],
      "execution_count": 147,
      "outputs": []
    },
    {
      "cell_type": "code",
      "metadata": {
        "id": "UFmYjuX0wjJG"
      },
      "source": [
        "fruits = np.array(['Orange','Apple','Grape','Watermelon','Banana','Mango','Lemon','Strawberry'])\n",
        "path_to_zip_file = '/content/drive/MyDrive/Data Khanh/Khanh.zip'\n",
        "Array = Read_data(path_to_zip_file)\n",
        "Uyxma_list = np.zeros((8,2))\n",
        "for index,lst in enumerate(Array):\n",
        "    Uyxma_list[index][0],Uyxma_list[index][1] = UyXma(lst)"
      ],
      "execution_count": 149,
      "outputs": []
    },
    {
      "cell_type": "code",
      "metadata": {
        "colab": {
          "base_uri": "https://localhost:8080/",
          "height": 286
        },
        "id": "IkoSmL5vEgs2",
        "outputId": "5237fd54-9877-42c1-f7ce-2eee904f8a95"
      },
      "source": [
        "image_path = '/content/02.jpg'\n",
        "Predict(image_path,Uyxma_list)"
      ],
      "execution_count": 151,
      "outputs": [
        {
          "output_type": "display_data",
          "data": {
            "image/png": "[encoded data removed]",
            "text/plain": [
              "<Figure size 432x288 with 1 Axes>"
            ]
          },
          "metadata": {
            "tags": [],
            "needs_background": "light"
          }
        },
        {
          "output_type": "stream",
          "text": [
            "Loai trai cay la: Banana\n"
          ],
          "name": "stdout"
        }
      ]
    },
    {
      "cell_type": "code",
      "metadata": {
        "id": "SwHEGiwG-iyt"
      },
      "source": [
        ""
      ],
      "execution_count": null,
      "outputs": []
    }
  ]
}