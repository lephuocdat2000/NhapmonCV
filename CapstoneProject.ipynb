{
  "nbformat": 4,
  "nbformat_minor": 0,
  "metadata": {
    "colab": {
      "name": "Untitled86.ipynb",
      "provenance": [],
      "authorship_tag": "ABX9TyP/wLtShXd4izVGBcJViOtn",
      "include_colab_link": true
    },
    "kernelspec": {
      "name": "python3",
      "display_name": "Python 3"
    }
  },
  "cells": [
    {
      "cell_type": "markdown",
      "metadata": {
        "id": "view-in-github",
        "colab_type": "text"
      },
      "source": [
        "<a href=\"https://colab.research.google.com/github/lephuocdat2000/NhapmonCV/blob/master/CapstoneProject.ipynb\" target=\"_parent\"><img src=\"https://colab.research.google.com/assets/colab-badge.svg\" alt=\"Open In Colab\"/></a>"
      ]
    },
    {
      "cell_type": "code",
      "metadata": {
        "id": "uoE_vUum6DNr"
      },
      "source": [
        "import cv2 \n",
        "import numpy as np\n",
        "import matplotlib.pyplot as plt"
      ],
      "execution_count": 1,
      "outputs": []
    },
    {
      "cell_type": "code",
      "metadata": {
        "colab": {
          "base_uri": "https://localhost:8080/"
        },
        "id": "S-3xWowOaeLH",
        "outputId": "7ebfabc4-447f-420a-9729-4d5b23e798ac"
      },
      "source": [
        "#Tính pp:\n",
        "import math\n",
        "arr_H=np.array([60,61,65,62,54,60,60,55,56,60])\n",
        "arr_S=np.array([255,243,207,235,206,254,253,203,197,255])\n",
        "uy_H=arr_H.sum()/len(arr_H)\n",
        "uy_S=arr_S.sum()/len(arr_S)\n",
        "H,S=0,0\n",
        "for i in range(0,len(arr_H)):\n",
        "   H+=(uy_H-arr_H[i])**2\n",
        "   S+=(uy_S-arr_S[i])**2\n",
        "xma_H=math.sqrt((1/len(arr_H))*H)\n",
        "xma_S=math.sqrt((1/len(arr_S))*S)\n",
        "print('uy_H:',uy_H)\n",
        "print('xma_H:',xma_H)\n",
        "print('uy_S:',uy_S)\n",
        "print('xma_S:',xma_S)"
      ],
      "execution_count": 81,
      "outputs": [
        {
          "output_type": "stream",
          "text": [
            "uy_H: 59.3\n",
            "xma_H: 3.195309061734092\n",
            "uy_S: 230.8\n",
            "xma_S: 23.37862271392393\n"
          ],
          "name": "stdout"
        }
      ]
    },
    {
      "cell_type": "code",
      "metadata": {
        "colab": {
          "base_uri": "https://localhost:8080/",
          "height": 257
        },
        "id": "sx8fBsGY7j2i",
        "outputId": "fb1775c0-609d-41ab-c2da-490f90f927e8"
      },
      "source": [
        "img=cv2.imread('/content/Fq8hA.png',1)\n",
        "hsv=cv2.cvtColor(img,cv2.COLOR_BGR2HSV)\n",
        "#remove background\n",
        "H_space=hsv[:,:,0]\n",
        "S_space=hsv[:,:,1]\n",
        "temp=H_space.copy()\n",
        "lower=np.array([uy_H-2*xma_H,uy_S-2*xma_S,0])\n",
        "upper=np.array([uy_H+2*xma_H,uy_S+2*xma_S,255])\n",
        "mask = cv2.inRange(hsv, lower, upper)\n",
        "res = cv2.bitwise_and(img,img,mask=mask)\n",
        "plt.imshow(cv2.cvtColor(res, cv2.COLOR_BGR2RGB))\n",
        "# H_space[(H_space>uy_H-2*xma_H) & (H_space<uy_H+2*xma_H)]=0\n",
        "# S_space[(S_space>uy_S-2*xma_S) & (S_space<uy_S+2*xma_S)]=0\n",
        "#plt.imshow(cv2.cvtColor(img, cv2.COLOR_BGR2HSV))"
      ],
      "execution_count": 108,
      "outputs": [
        {
          "output_type": "execute_result",
          "data": {
            "text/plain": [
              "<matplotlib.image.AxesImage at 0x7f292f661d68>"
            ]
          },
          "metadata": {
            "tags": []
          },
          "execution_count": 108
        },
        {
          "output_type": "display_data",
          "data": {
            "image/png": "[encoded data removed]",
            "text/plain": [
              "<Figure size 432x288 with 1 Axes>"
            ]
          },
          "metadata": {
            "tags": [],
            "needs_background": "light"
          }
        }
      ]
    },
    {
      "cell_type": "code",
      "metadata": {
        "id": "5TK5mDHGwVD9"
      },
      "source": [
        "cv2.inRange()"
      ],
      "execution_count": null,
      "outputs": []
    }
  ]
}