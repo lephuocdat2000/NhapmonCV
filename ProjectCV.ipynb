{
  "nbformat": 4,
  "nbformat_minor": 0,
  "metadata": {
    "colab": {
      "name": "ProjectCV.ipynb",
      "provenance": [],
      "collapsed_sections": [],
      "authorship_tag": "ABX9TyO4edj1lOEQ+FEo1qbr26Qs",
      "include_colab_link": true
    },
    "kernelspec": {
      "name": "python3",
      "display_name": "Python 3"
    }
  },
  "cells": [
    {
      "cell_type": "markdown",
      "metadata": {
        "id": "view-in-github",
        "colab_type": "text"
      },
      "source": [
        "<a href=\"https://colab.research.google.com/github/lephuocdat2000/NhapmonCV/blob/master/ProjectCV.ipynb\" target=\"_parent\"><img src=\"https://colab.research.google.com/assets/colab-badge.svg\" alt=\"Open In Colab\"/></a>"
      ]
    },
    {
      "cell_type": "code",
      "metadata": {
        "id": "uoE_vUum6DNr"
      },
      "source": [
        "import cv2 \n",
        "import numpy as np\n",
        "import matplotlib.pyplot as plt\n",
        "from PIL import Image\n",
        "from numpy import asarray"
      ],
      "execution_count": 11,
      "outputs": []
    },
    {
      "cell_type": "code",
      "metadata": {
        "id": "S-3xWowOaeLH"
      },
      "source": [
        "#Tính pp:\n",
        "import math\n",
        "arr_H=np.array([60,61,65,62,54,60,60,55,56,60])\n",
        "uy_H=arr_H.sum()/len(arr_H)\n",
        "H,S=0,0\n",
        "for i in range(0,len(arr_H)):\n",
        "   H+=(uy_H-arr_H[i])**2\n",
        "xma_H=math.sqrt((1/len(arr_H))*H)"
      ],
      "execution_count": 13,
      "outputs": []
    },
    {
      "cell_type": "code",
      "metadata": {
        "id": "jnpIKHgQDS4N"
      },
      "source": [
        "img=cv2.imread('/content/Fq8hA.png',1)\n",
        "hsv=cv2.cvtColor(img,cv2.COLOR_BGR2HSV)"
      ],
      "execution_count": 14,
      "outputs": []
    },
    {
      "cell_type": "code",
      "metadata": {
        "id": "miAgiPYzFDHx"
      },
      "source": [
        "#Lấy kênh H\n",
        "H_space=hsv[:,:,0]\n",
        "#Tạo mask để xóa background\n",
        "mask=np.ones((H_space.shape[0],H_space.shape[1]) )\n",
        "mask[np.where((H_space>=uy_H-2*xma_H)&(H_space<=uy_H+2*xma_H))]=0\n",
        "mask_obj=[mask,mask,mask]\n",
        "mask_obj=np.stack(mask_obj,axis=2)\n",
        "mask_obj=mask_obj.astype('uint8')\n",
        "img=img*mask_obj\n",
        "mask_obj2=1-mask_obj\n",
        "\n",
        "#Đọc video\n",
        "cap=cv2.VideoCapture('/content/Pexels Videos 1720219.mp4')\n",
        "if (cap.isOpened()==False):\n",
        "    print(\"Error opening video stream or file\")\n",
        "out = cv2.VideoWriter('outpy.avi',cv2.VideoWriter_fourcc('M','J','P','G'), 10,(img.shape[1],img.shape[0]))\n",
        "while (True):\n",
        "   ret,frame=cap.read()\n",
        "   if ret==True:\n",
        "      #resize frame lai bang kich thuoc cua obj\n",
        "      image = Image.fromarray(frame)\n",
        "      image = image.resize((img.shape[1],img.shape[0]))\n",
        "      image_arr=asarray(image)\n",
        "      # double exposure frame va obj \n",
        "      res =(image*mask_obj2).astype('uint8')+img\n",
        "      out.write(res)\n",
        "   else: break\n",
        "out.release()\n"
      ],
      "execution_count": 15,
      "outputs": []
    },
    {
      "cell_type": "code",
      "metadata": {
        "id": "PQwsHrIZYjKs"
      },
      "source": [
        "#Tạo mask cho effect\n",
        "effect=cv2.imread('/content/bokeh-effect-background_23-2148496559.jpg',1)\n",
        "effect=cv2.resize(effect,(img.shape[1],img.shape[0]))\n",
        "mask_obj2=1-mask_obj\n",
        "result=(effect*mask_obj2).astype('uint8')+img\n",
        "plt.imshow(cv2.cvtColor(result,cv2.COLOR_BGR2RGB))"
      ],
      "execution_count": null,
      "outputs": []
    }
  ]
}