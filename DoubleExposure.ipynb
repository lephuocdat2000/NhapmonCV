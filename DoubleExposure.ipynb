{
  "nbformat": 4,
  "nbformat_minor": 0,
  "metadata": {
    "colab": {
      "name": "Untitled48.ipynb",
      "provenance": [],
      "authorship_tag": "ABX9TyOB0O9sc+VS8hG6eIhCZykV",
      "include_colab_link": true
    },
    "kernelspec": {
      "name": "python3",
      "display_name": "Python 3"
    }
  },
  "cells": [
    {
      "cell_type": "markdown",
      "metadata": {
        "id": "view-in-github",
        "colab_type": "text"
      },
      "source": [
        "<a href=\"https://colab.research.google.com/github/lephuocdat2000/NhapmonCV/blob/master/DoubleExposure.ipynb\" target=\"_parent\"><img src=\"https://colab.research.google.com/assets/colab-badge.svg\" alt=\"Open In Colab\"/></a>"
      ]
    },
    {
      "cell_type": "code",
      "metadata": {
        "id": "NRxtA0bcFnFj"
      },
      "source": [
        "import cv2\n",
        "import numpy as np\n",
        "import matplotlib.pyplot as plt\n",
        "obj=cv2.imread('/content/girl.jpg')\n",
        "eff=cv2.imread('/content/fire.jpg')\n",
        "mask=cv2.imread('/content/mask.png')\n",
        "obj=cv2.cvtColor(obj,cv2.COLOR_BGR2RGB)\n",
        "eff=cv2.cvtColor(eff,cv2.COLOR_BGR2RGB)\n",
        "mask=cv2.cvtColor(mask,cv2.COLOR_BGR2RGB)\n",
        "#Tao ma tran mask\n",
        "mask1=(mask[:,:,0]>0)\n",
        "mask2=(mask[:,:,1]>0)\n",
        "mask3=(mask[:,:,2]>0)\n",
        "mask=mask1&mask2&mask3\n",
        "def double_exposure(obj,obj_mask,eff,alpha):\n",
        "    mask=[obj_mask,obj_mask,obj_mask]\n",
        "    mask=np.stack(mask,axis=2)\n",
        "    mask=mask.astype('uint8')\n",
        "    res=(1-alpha)*(obj)+alpha*(eff*mask)\n",
        "    res=res.astype('uint8')\n",
        "    return res\n",
        "#res=double_exposure(obj,mask,eff,0.5)\n",
        "#Read video\n",
        "cap=cv2.VideoCapture('/content/3d_ocean_1590675653.mov')\n",
        "if (cap.isOpened()==False):\n",
        "    print(\"Error opening video stream or file\")\n",
        "while (cap.isOpened()):\n",
        "   ret,frame=cap.read()\n",
        "   if ret==True:\n",
        "      plt.imshow(frame)\n"
      ],
      "execution_count": null,
      "outputs": []
    }
  ]
}